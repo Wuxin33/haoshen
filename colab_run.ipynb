!git clone https://github.com/Wuxin33/DiffSinger.git
%cd DiffSinger
!pip install -r requirements.txt
